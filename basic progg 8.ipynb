{
 "cells": [
  {
   "cell_type": "markdown",
   "metadata": {},
   "source": [
    "# 1. Write a Python Program to Add Two Matrices?"
   ]
  },
  {
   "cell_type": "code",
   "execution_count": 2,
   "metadata": {},
   "outputs": [
    {
     "name": "stdout",
     "output_type": "stream",
     "text": [
      "Enter the Number of rows : 2\n",
      "Enter the Number of Columns: 1\n",
      "Enter the elements of First Matrix:\n",
      "3\n",
      "4\n",
      "First Matrix is: \n",
      "[3]\n",
      "[4]\n",
      "Enter the elements of Second Matrix:\n",
      "2\n",
      "3\n",
      "[2]\n",
      "[3]\n",
      "The Sum of two Matrices is : \n",
      "[5]\n",
      "[7]\n"
     ]
    }
   ],
   "source": [
    "rows = int(input(\"Enter the Number of rows : \" ))\n",
    "column = int(input(\"Enter the Number of Columns: \"))\n",
    "\n",
    "print(\"Enter the elements of First Matrix:\")\n",
    "matrix_a= [[int(input()) for i in range(column)] for i in range(rows)]\n",
    "print(\"First Matrix is: \")\n",
    "for n in matrix_a:\n",
    "    print(n)\n",
    "\n",
    "print(\"Enter the elements of Second Matrix:\")\n",
    "matrix_b= [[int(input()) for i in range(column)] for i in range(rows)]\n",
    "for n in matrix_b:\n",
    "    print(n)\n",
    "    \n",
    "result=[[0 for i in range(column)] for i in range(rows)]\n",
    "\n",
    "for i in range(rows):\n",
    "    for j in range(column):\n",
    "        result[i][j] = matrix_a[i][j]+matrix_b[i][j]\n",
    "\n",
    "print(\"The Sum of two Matrices is : \")\n",
    "for r in result:\n",
    "    print(r)"
   ]
  },
  {
   "cell_type": "markdown",
   "metadata": {},
   "source": [
    "# 2. Write a Python Program to Multiply Two Matrices?"
   ]
  },
  {
   "cell_type": "code",
   "execution_count": 3,
   "metadata": {},
   "outputs": [
    {
     "name": "stdout",
     "output_type": "stream",
     "text": [
      "Enter the Number of rows : 3\n",
      "Enter the Number of Columns: 4\n",
      "Enter the elements of First Matrix:\n",
      "1\n",
      "2\n",
      "3\n",
      "4\n",
      "5\n",
      "6\n",
      "7\n",
      "8\n",
      "4\n",
      "3\n",
      "4\n",
      "5\n",
      "First Matrix is: \n",
      "[1, 2, 3, 4]\n",
      "[5, 6, 7, 8]\n",
      "[4, 3, 4, 5]\n",
      "Enter the elements of Second Matrix:\n",
      "3\n",
      "2\n",
      "3\n",
      "4\n",
      "5\n",
      "6\n",
      "7\n",
      "3\n",
      "2\n",
      "3\n",
      "6\n",
      "5\n",
      "[3, 2, 3, 4]\n",
      "[5, 6, 7, 3]\n",
      "[2, 3, 6, 5]\n",
      "The Sum of two Matrices is : \n",
      "[19, 23, 35, 25]\n",
      "[59, 67, 99, 73]\n",
      "[35, 38, 57, 45]\n"
     ]
    }
   ],
   "source": [
    "rows = int(input(\"Enter the Number of rows : \" ))\n",
    "column = int(input(\"Enter the Number of Columns: \"))\n",
    "\n",
    "print(\"Enter the elements of First Matrix:\")\n",
    "matrix_a= [[int(input()) for i in range(column)] for i in range(rows)]\n",
    "print(\"First Matrix is: \")\n",
    "for n in matrix_a:\n",
    "    print(n)\n",
    "\n",
    "print(\"Enter the elements of Second Matrix:\")\n",
    "matrix_b= [[int(input()) for i in range(column)] for i in range(rows)]\n",
    "for n in matrix_b:\n",
    "    print(n)\n",
    "    \n",
    "result=[[0 for i in range(column)] for i in range(rows)]\n",
    "\n",
    "for i in range(len(matrix_a)):\n",
    "    for j in range(len(matrix_b[0])):\n",
    "        for k in range(len(matrix_b)):\n",
    "            result[i][j]=result[i][j]+ matrix_a[i][k]*matrix_b[k][j]\n",
    "\n",
    "print(\"The Sum of two Matrices is : \")\n",
    "for r in result:\n",
    "    print(r)"
   ]
  },
  {
   "cell_type": "markdown",
   "metadata": {},
   "source": [
    "# 3. Write a Python Program to Transpose a Matrix?"
   ]
  },
  {
   "cell_type": "code",
   "execution_count": 4,
   "metadata": {},
   "outputs": [
    {
     "name": "stdout",
     "output_type": "stream",
     "text": [
      "Enter the Number of rows : 1\n",
      "Enter the Number of Columns: 2\n",
      "Enter the elements of Matrix:\n",
      "3\n",
      "4\n",
      "Transpose matrix is: \n",
      "[3]\n",
      "[4]\n"
     ]
    }
   ],
   "source": [
    "rows = int(input(\"Enter the Number of rows : \" ))\n",
    "column = int(input(\"Enter the Number of Columns: \"))\n",
    "\n",
    "print(\"Enter the elements of Matrix:\")\n",
    "matrix= [[int(input()) for i in range(column)] for i in range(rows)]\n",
    "\n",
    "result =[[0 for i in range(rows)] for j in range(column)]\n",
    "for r in range(rows):\n",
    "   \n",
    "   for c in range(column):\n",
    "       result[c][r] = matrix[r][c]\n",
    "\n",
    "print(\"Transpose matrix is: \")\n",
    "for r in result:\n",
    "    print(r)"
   ]
  },
  {
   "cell_type": "markdown",
   "metadata": {},
   "source": [
    "# 4. Write a Python Program to Sort Words in Alphabetic Order?"
   ]
  },
  {
   "cell_type": "code",
   "execution_count": 5,
   "metadata": {},
   "outputs": [
    {
     "name": "stdout",
     "output_type": "stream",
     "text": [
      "Enter a string: anmol\n",
      "anmol\n"
     ]
    }
   ],
   "source": [
    "s = input(\"Enter a string: \")  \n",
    "words = s.split()  \n",
    "words.sort()   \n",
    "for word in words:  \n",
    "   print(word)"
   ]
  },
  {
   "cell_type": "markdown",
   "metadata": {},
   "source": [
    "# 5. Write a Python Program to Remove Punctuation From a String?¶"
   ]
  },
  {
   "cell_type": "code",
   "execution_count": 6,
   "metadata": {},
   "outputs": [
    {
     "name": "stdout",
     "output_type": "stream",
     "text": [
      "Enter a string: tfvhjghgxf\n",
      "tfvhjghgxf\n"
     ]
    }
   ],
   "source": [
    "punc = '''''!()-[]{};:'\"\\,<>./?@#$%^&*_~'''  \n",
    "str_ = input(\"Enter a string: \")  \n",
    "no_punc = \"\"  \n",
    "for char in str_:  \n",
    "   if char not in punc:  \n",
    "       no_punc = no_punc + char  \n",
    " \n",
    "print(no_punc)"
   ]
  },
  {
   "cell_type": "code",
   "execution_count": null,
   "metadata": {},
   "outputs": [],
   "source": []
  }
 ],
 "metadata": {
  "kernelspec": {
   "display_name": "Python 3",
   "language": "python",
   "name": "python3"
  },
  "language_info": {
   "codemirror_mode": {
    "name": "ipython",
    "version": 3
   },
   "file_extension": ".py",
   "mimetype": "text/x-python",
   "name": "python",
   "nbconvert_exporter": "python",
   "pygments_lexer": "ipython3",
   "version": "3.8.5"
  }
 },
 "nbformat": 4,
 "nbformat_minor": 4
}
